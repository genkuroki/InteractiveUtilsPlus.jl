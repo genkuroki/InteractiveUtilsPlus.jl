{
 "cells": [
  {
   "cell_type": "code",
   "execution_count": 1,
   "metadata": {},
   "outputs": [
    {
     "name": "stderr",
     "output_type": "stream",
     "text": [
      "\u001b[32m\u001b[1m Activating\u001b[22m\u001b[39m environment at `C:\\Users\\genkuroki\\OneDrive\\work\\InteractiveUtilsPlus\\Project.toml`\n"
     ]
    }
   ],
   "source": [
    "if isfile(\"Project.toml\")\n",
    "    using Pkg\n",
    "    Pkg.activate(\".\")\n",
    "    using Revise\n",
    "end"
   ]
  },
  {
   "cell_type": "code",
   "execution_count": 2,
   "metadata": {},
   "outputs": [
    {
     "name": "stderr",
     "output_type": "stream",
     "text": [
      "┌ Info: Precompiling InteractiveUtilsPlus [15582c07-8eed-4122-ab21-6ada434376fd]\n",
      "└ @ Base loading.jl:1239\n"
     ]
    }
   ],
   "source": [
    "using InteractiveUtilsPlus"
   ]
  },
  {
   "cell_type": "code",
   "execution_count": 3,
   "metadata": {},
   "outputs": [
    {
     "name": "stdout",
     "output_type": "stream",
     "text": [
      "(:for, (:(=), :k, (:call, :(:), 1, 10)), (:block,\n",
      "    (:(=), :x, (:call, :÷, (:call, :*, :k, (:call, :+, :k, 1)), 2)),\n",
      "    (:call, :println, \"k(k+1)/2 = \", :x)\n",
      "  ))"
     ]
    }
   ],
   "source": [
    "@show_sexpr for k in 1:10\n",
    "    x = k*(k+1) ÷ 2\n",
    "    println(\"k(k+1)/2 = \", x)\n",
    "end"
   ]
  },
  {
   "cell_type": "code",
   "execution_count": 4,
   "metadata": {},
   "outputs": [
    {
     "name": "stdout",
     "output_type": "stream",
     "text": [
      "(:for, (:(=), :k, (:call, :(:), 1, 10)), (:block,\n",
      "    :(#= In[4]:2 =#),\n",
      "    (:(=), :x, (:call, :÷, (:call, :*, :k, (:call, :+, :k, 1)), 2)),\n",
      "    :(#= In[4]:3 =#),\n",
      "    (:call, :println, \"k(k+1)/2 = \", :x)\n",
      "  ))"
     ]
    }
   ],
   "source": [
    "@show_sexpr for k in 1:10\n",
    "    x = k*(k+1) ÷ 2\n",
    "    println(\"k(k+1)/2 = \", x)\n",
    "end true"
   ]
  },
  {
   "cell_type": "code",
   "execution_count": 5,
   "metadata": {},
   "outputs": [
    {
     "name": "stdout",
     "output_type": "stream",
     "text": [
      ":for\n",
      "├─ :(=)\n",
      "│  ├─ :k\n",
      "│  └─ :call\n",
      "│     ⋮\n",
      "│     \n",
      "└─ :block\n",
      "   ├─ :(=)\n",
      "   │  ⋮\n",
      "   │  \n",
      "   └─ :call\n",
      "      ⋮\n",
      "      \n"
     ]
    }
   ],
   "source": [
    "@show_tree for k in 1:10\n",
    "    x = k*(k+1) ÷ 2\n",
    "    println(\"k(k+1)/2 = \", x)\n",
    "end 2"
   ]
  },
  {
   "cell_type": "code",
   "execution_count": 6,
   "metadata": {},
   "outputs": [
    {
     "name": "stdout",
     "output_type": "stream",
     "text": [
      ":for\n",
      "├─ :(=)\n",
      "│  ├─ :k\n",
      "│  └─ :call\n",
      "│     ├─ :(:)\n",
      "│     ├─ 1\n",
      "│     └─ 10\n",
      "└─ :block\n",
      "   ├─ :(=)\n",
      "   │  ├─ :x\n",
      "   │  └─ :call\n",
      "   │     ├─ :÷\n",
      "   │     ├─ :call\n",
      "   │     │  ├─ :*\n",
      "   │     │  ├─ :k\n",
      "   │     │  └─ :call\n",
      "   │     │     ├─ :+\n",
      "   │     │     ├─ :k\n",
      "   │     │     └─ 1\n",
      "   │     └─ 2\n",
      "   └─ :call\n",
      "      ├─ :println\n",
      "      ├─ \"k(k+1)/2 = \"\n",
      "      └─ :x\n"
     ]
    }
   ],
   "source": [
    "@show_tree for k in 1:10\n",
    "    x = k*(k+1) ÷ 2\n",
    "    println(\"k(k+1)/2 = \", x)\n",
    "end"
   ]
  },
  {
   "cell_type": "code",
   "execution_count": 7,
   "metadata": {},
   "outputs": [
    {
     "name": "stdout",
     "output_type": "stream",
     "text": [
      ":for\n",
      "├─ :(=)\n",
      "│  ├─ :k\n",
      "│  └─ :call\n",
      "│     ├─ :(:)\n",
      "│     ├─ 1\n",
      "│     └─ 10\n",
      "└─ :block\n",
      "   ├─ :(#= In[7]:2 =#)\n",
      "   ├─ :(=)\n",
      "   │  ├─ :x\n",
      "   │  └─ :call\n",
      "   │     ├─ :÷\n",
      "   │     ├─ :call\n",
      "   │     │  ├─ :*\n",
      "   │     │  ├─ :k\n",
      "   │     │  └─ :call\n",
      "   │     │     ├─ :+\n",
      "   │     │     ├─ :k\n",
      "   │     │     └─ 1\n",
      "   │     └─ 2\n",
      "   ├─ :(#= In[7]:3 =#)\n",
      "   └─ :call\n",
      "      ├─ :println\n",
      "      ├─ \"k(k+1)/2 = \"\n",
      "      └─ :x\n"
     ]
    }
   ],
   "source": [
    "@show_tree for k in 1:10\n",
    "    x = k*(k+1) ÷ 2\n",
    "    println(\"k(k+1)/2 = \", x)\n",
    "end 10 true"
   ]
  },
  {
   "cell_type": "code",
   "execution_count": 8,
   "metadata": {},
   "outputs": [
    {
     "name": "stdout",
     "output_type": "stream",
     "text": [
      "Expr\n",
      "  head: Symbol for\n",
      "  args: Array{Any}((2,))\n",
      "    1: Expr\n",
      "      head: Symbol =\n",
      "      args: Array{Any}((2,))\n",
      "        1: Symbol k\n",
      "        2: Expr\n",
      "          head: Symbol call\n",
      "          args: Array{Any}((3,))\n",
      "            1: Symbol :\n",
      "            2: Int64 1\n",
      "            3: Int64 10\n",
      "    2: Expr\n",
      "      head: Symbol block\n",
      "      args: Array{Any}((4,))\n",
      "        1: LineNumberNode\n",
      "          line: Int64 2\n",
      "          file: Symbol In[8]\n",
      "        2: Expr\n",
      "          head: Symbol =\n",
      "          args: Array{Any}((2,))\n",
      "            1: Symbol x\n",
      "            2: Expr\n",
      "              head: Symbol call\n",
      "              args: Array{Any}((3,))\n",
      "                1: Symbol ÷\n",
      "                2: Expr\n",
      "                3: Int64 2\n",
      "        3: LineNumberNode\n",
      "          line: Int64 3\n",
      "          file: Symbol In[8]\n",
      "        4: Expr\n",
      "          head: Symbol call\n",
      "          args: Array{Any}((3,))\n",
      "            1: Symbol println\n",
      "            2: String \"k(k+1)/2 = \"\n",
      "            3: Symbol x\n"
     ]
    }
   ],
   "source": [
    "Meta.@dump for k in 1:10\n",
    "    x = k*(k+1) ÷ 2\n",
    "    println(\"k(k+1)/2 = \", x)\n",
    "end"
   ]
  },
  {
   "cell_type": "code",
   "execution_count": 9,
   "metadata": {},
   "outputs": [
    {
     "name": "stdout",
     "output_type": "stream",
     "text": [
      "Number\n",
      "├─ Complex\n",
      "└─ Real\n",
      "   ├─ AbstractFloat\n",
      "   │  ├─ BigFloat\n",
      "   │  ├─ Float16\n",
      "   │  ├─ Float32\n",
      "   │  └─ Float64\n",
      "   ├─ AbstractIrrational\n",
      "   │  └─ Irrational\n",
      "   ├─ Integer\n",
      "   │  ├─ Bool\n",
      "   │  ├─ Signed\n",
      "   │  │  ├─ BigInt\n",
      "   │  │  ├─ Int128\n",
      "   │  │  ├─ Int16\n",
      "   │  │  ├─ Int32\n",
      "   │  │  ├─ Int64\n",
      "   │  │  └─ Int8\n",
      "   │  └─ Unsigned\n",
      "   │     ├─ UInt128\n",
      "   │     ├─ UInt16\n",
      "   │     ├─ UInt32\n",
      "   │     ├─ UInt64\n",
      "   │     └─ UInt8\n",
      "   └─ Rational\n"
     ]
    }
   ],
   "source": [
    "print_tree(Number)"
   ]
  },
  {
   "cell_type": "code",
   "execution_count": 10,
   "metadata": {},
   "outputs": [
    {
     "name": "stdout",
     "output_type": "stream",
     "text": [
      "AbstractVector{T} where T\n",
      "├─ AbstractRange\n",
      "│  ├─ LinRange\n",
      "│  ├─ OrdinalRange\n",
      "│  │  ├─ AbstractUnitRange\n",
      "│  │  │  ├─ IdentityUnitRange\n",
      "│  │  │  ├─ OneTo\n",
      "│  │  │  ├─ Slice\n",
      "│  │  │  └─ UnitRange\n",
      "│  │  └─ StepRange\n",
      "│  └─ StepRangeLen\n",
      "├─ LogicalIndex\n",
      "├─ ReshapedArray{T, 1, P, MI} where MI<:Tuple{Vararg{SignedMultiplicativeInverse{Int64}, N} where N} where P<:AbstractArray where T\n",
      "├─ BitVector\n",
      "├─ CartesianIndices{1, R} where R<:Tuple{AbstractUnitRange{Int64}}\n",
      "├─ AbstractRange\n",
      "│  ├─ LinRange\n",
      "│  ├─ OrdinalRange\n",
      "│  │  ├─ AbstractUnitRange\n",
      "│  │  │  ├─ IdentityUnitRange\n",
      "│  │  │  ├─ OneTo\n",
      "│  │  │  ├─ Slice\n",
      "│  │  │  ├─ StmtRange\n",
      "│  │  │  └─ UnitRange\n",
      "│  │  └─ StepRange\n",
      "│  └─ StepRangeLen\n",
      "├─ BitArray{1}\n",
      "├─ LinearIndices{1, R} where R<:Tuple{AbstractUnitRange{Int64}}\n",
      "├─ DenseVector{T} where T\n",
      "│  ├─ CodeUnits\n",
      "│  ├─ Const{T, 1} where T\n",
      "│  ├─ UnsafeView\n",
      "│  ├─ SharedVector{T} where T\n",
      "│  └─ Vector{T} where T\n",
      "├─ LinearIndices{1, R} where R<:Tuple{AbstractUnitRange{Int64}}\n",
      "├─ PermutedDimsArray{T, 1, perm, iperm, AA} where AA<:AbstractArray where iperm where perm where T\n",
      "├─ AbstractSparseVector{Tv, Ti} where Ti where Tv\n",
      "│  └─ SparseVector\n",
      "├─ SubArray{T, 1, P, I, L} where L where I where P where T\n",
      "├─ GenericArray{T, 1} where T\n",
      "├─ Union{ReinterpretArray{T, 1, S, A} where A<:AbstractVector{S} where S, ReinterpretArray{T, 1, S, A} where A<:AbstractVector{S} where S} where T\n",
      "└─ Message\n"
     ]
    }
   ],
   "source": [
    "print_tree(AbstractVector)"
   ]
  },
  {
   "cell_type": "code",
   "execution_count": 11,
   "metadata": {},
   "outputs": [
    {
     "data": {
      "text/latex": [
       "\\begin{verbatim}\n",
       "@show_sexpr(expr, linenums=false)\n",
       "\\end{verbatim}\n",
       "shows the lisp style S-expression of \\texttt{expr} and prints the line number nodes if \\texttt{linenums} is true.\n",
       "\n",
       "\\subsection{Example}\n",
       "\\begin{verbatim}\n",
       "julia> @show_sexpr 2x+1\n",
       "(:call, :+, (:call, :*, 2, :x), 1)\n",
       "\\end{verbatim}\n"
      ],
      "text/markdown": [
       "```\n",
       "@show_sexpr(expr, linenums=false)\n",
       "```\n",
       "\n",
       "shows the lisp style S-expression of `expr` and prints the line number nodes if `linenums` is true.\n",
       "\n",
       "## Example\n",
       "\n",
       "```julia\n",
       "julia> @show_sexpr 2x+1\n",
       "(:call, :+, (:call, :*, 2, :x), 1)\n",
       "```\n"
      ],
      "text/plain": [
       "\u001b[36m  @show_sexpr(expr, linenums=false)\u001b[39m\n",
       "\n",
       "  shows the lisp style S-expression of \u001b[36mexpr\u001b[39m and prints the line number nodes\n",
       "  if \u001b[36mlinenums\u001b[39m is true.\n",
       "\n",
       "\u001b[1m  Example\u001b[22m\n",
       "\u001b[1m  =========\u001b[22m\n",
       "\n",
       "\u001b[36m  julia> @show_sexpr 2x+1\u001b[39m\n",
       "\u001b[36m  (:call, :+, (:call, :*, 2, :x), 1)\u001b[39m"
      ]
     },
     "execution_count": 11,
     "metadata": {},
     "output_type": "execute_result"
    }
   ],
   "source": [
    "?@show_sexpr"
   ]
  },
  {
   "cell_type": "code",
   "execution_count": 12,
   "metadata": {},
   "outputs": [
    {
     "data": {
      "text/latex": [
       "\\begin{verbatim}\n",
       "@show_tree(expr, maxdepth=10, linenums=false)\n",
       "\\end{verbatim}\n",
       "shows the tree form of the expression \\texttt{expr} with maxdepth and prints the line number nodes if \\texttt{linenums} is true.\n",
       "\n",
       "\\subsection{Example}\n",
       "\\begin{verbatim}\n",
       "julia> @show_tree 2x+1\n",
       ":call\n",
       "├─ :+\n",
       "├─ :call\n",
       "│  ├─ :*\n",
       "│  ├─ 2\n",
       "│  └─ :x\n",
       "└─ 1\n",
       "\\end{verbatim}\n"
      ],
      "text/markdown": [
       "```\n",
       "@show_tree(expr, maxdepth=10, linenums=false)\n",
       "```\n",
       "\n",
       "shows the tree form of the expression `expr` with maxdepth and prints the line number nodes if `linenums` is true.\n",
       "\n",
       "## Example\n",
       "\n",
       "```julia\n",
       "julia> @show_tree 2x+1\n",
       ":call\n",
       "├─ :+\n",
       "├─ :call\n",
       "│  ├─ :*\n",
       "│  ├─ 2\n",
       "│  └─ :x\n",
       "└─ 1\n",
       "```\n"
      ],
      "text/plain": [
       "\u001b[36m  @show_tree(expr, maxdepth=10, linenums=false)\u001b[39m\n",
       "\n",
       "  shows the tree form of the expression \u001b[36mexpr\u001b[39m with maxdepth and prints the\n",
       "  line number nodes if \u001b[36mlinenums\u001b[39m is true.\n",
       "\n",
       "\u001b[1m  Example\u001b[22m\n",
       "\u001b[1m  =========\u001b[22m\n",
       "\n",
       "\u001b[36m  julia> @show_tree 2x+1\u001b[39m\n",
       "\u001b[36m  :call\u001b[39m\n",
       "\u001b[36m  ├─ :+\u001b[39m\n",
       "\u001b[36m  ├─ :call\u001b[39m\n",
       "\u001b[36m  │  ├─ :*\u001b[39m\n",
       "\u001b[36m  │  ├─ 2\u001b[39m\n",
       "\u001b[36m  │  └─ :x\u001b[39m\n",
       "\u001b[36m  └─ 1\u001b[39m"
      ]
     },
     "execution_count": 12,
     "metadata": {},
     "output_type": "execute_result"
    }
   ],
   "source": [
    "?@show_tree"
   ]
  },
  {
   "cell_type": "code",
   "execution_count": 13,
   "metadata": {},
   "outputs": [
    {
     "name": "stdout",
     "output_type": "stream",
     "text": [
      "search: \u001b[0m\u001b[1mp\u001b[22m\u001b[0m\u001b[1mr\u001b[22m\u001b[0m\u001b[1mi\u001b[22m\u001b[0m\u001b[1mn\u001b[22m\u001b[0m\u001b[1mt\u001b[22m\u001b[0m\u001b[1m_\u001b[22m\u001b[0m\u001b[1mt\u001b[22m\u001b[0m\u001b[1mr\u001b[22m\u001b[0m\u001b[1me\u001b[22m\u001b[0m\u001b[1me\u001b[22m\n",
      "\n"
     ]
    },
    {
     "data": {
      "text/latex": [
       "\\begin{verbatim}\n",
       "print_tree(tree, maxdepth=5; kwargs...)\n",
       "print_tree(io, tree, maxdepth=5; kwargs...)\n",
       "print_tree(f::Function, io, tree, maxdepth=5; kwargs...)\n",
       "\\end{verbatim}\n",
       "\\section{Usage}\n",
       "Prints an ASCII formatted representation of the \\texttt{tree} to the given \\texttt{io} object. By default all children will be printed up to a maximum level of 5, though this value can be overriden by the \\texttt{maxdepth} parameter. Nodes that are truncated are indicated by a vertical ellipsis below the truncated node, this indication can be turned off by providing \\texttt{indicate\\_truncation=false} as a kwarg. The charset to use in printing can be customized using the \\texttt{charset} keyword argument. You can control the printing of individual nodes by passing a function \\texttt{f(io, node)}; the default is \\href{@ref}{\\texttt{AbstractTrees.printnode}}.\n",
       "\n",
       "\\section{Examples}\n",
       "\\begin{verbatim}\n",
       "julia> print_tree(stdout, Dict(\"a\"=>\"b\",\"b\"=>['c','d']))\n",
       "Dict{String,Any}(\"b\"=>['c','d'],\"a\"=>\"b\")\n",
       "├─ b\n",
       "│  ├─ c\n",
       "│  └─ d\n",
       "└─ a\n",
       "   └─ b\n",
       "\n",
       "julia> print_tree(stdout, '0'=>'1'=>'2'=>'3', 2)\n",
       "'0'\n",
       "└─ '1'\n",
       "    └─ '2'\n",
       "        ⋮\n",
       "\n",
       "julia> print_tree(stdout, Dict(\"a\"=>\"b\",\"b\"=>['c','d']);\n",
       "        charset = TreeCharSet('+','\\','|',\"--\",\"⋮\"))\n",
       "Dict{String,Any}(\"b\"=>['c','d'],\"a\"=>\"b\")\n",
       "+-- b\n",
       "|   +-- c\n",
       "|   \\-- d\n",
       "\\-- a\n",
       "   \\-- b\n",
       "\\end{verbatim}\n",
       "\\rule{\\textwidth}{1pt}\n",
       "\\begin{verbatim}\n",
       "print_tree(T::Type, maxdepth=5; kwargs...)\n",
       "\\end{verbatim}\n",
       "prints the subtree of the type \\texttt{T}.\n",
       "\n",
       "\\subsection{Example}\n",
       "\\begin{verbatim}\n",
       "julia> print_tree(AbstractRange)\n",
       "AbstractRange\n",
       "├─ LinRange\n",
       "├─ OrdinalRange\n",
       "│  ├─ AbstractUnitRange\n",
       "│  │  ├─ IdentityUnitRange\n",
       "│  │  ├─ OneTo\n",
       "│  │  ├─ Slice\n",
       "│  │  └─ UnitRange\n",
       "│  └─ StepRange\n",
       "└─ StepRangeLen\n",
       "\\end{verbatim}\n"
      ],
      "text/markdown": [
       "```\n",
       "print_tree(tree, maxdepth=5; kwargs...)\n",
       "print_tree(io, tree, maxdepth=5; kwargs...)\n",
       "print_tree(f::Function, io, tree, maxdepth=5; kwargs...)\n",
       "```\n",
       "\n",
       "# Usage\n",
       "\n",
       "Prints an ASCII formatted representation of the `tree` to the given `io` object. By default all children will be printed up to a maximum level of 5, though this value can be overriden by the `maxdepth` parameter. Nodes that are truncated are indicated by a vertical ellipsis below the truncated node, this indication can be turned off by providing `indicate_truncation=false` as a kwarg. The charset to use in printing can be customized using the `charset` keyword argument. You can control the printing of individual nodes by passing a function `f(io, node)`; the default is [`AbstractTrees.printnode`](@ref).\n",
       "\n",
       "# Examples\n",
       "\n",
       "```julia\n",
       "julia> print_tree(stdout, Dict(\"a\"=>\"b\",\"b\"=>['c','d']))\n",
       "Dict{String,Any}(\"b\"=>['c','d'],\"a\"=>\"b\")\n",
       "├─ b\n",
       "│  ├─ c\n",
       "│  └─ d\n",
       "└─ a\n",
       "   └─ b\n",
       "\n",
       "julia> print_tree(stdout, '0'=>'1'=>'2'=>'3', 2)\n",
       "'0'\n",
       "└─ '1'\n",
       "    └─ '2'\n",
       "        ⋮\n",
       "\n",
       "julia> print_tree(stdout, Dict(\"a\"=>\"b\",\"b\"=>['c','d']);\n",
       "        charset = TreeCharSet('+','\\','|',\"--\",\"⋮\"))\n",
       "Dict{String,Any}(\"b\"=>['c','d'],\"a\"=>\"b\")\n",
       "+-- b\n",
       "|   +-- c\n",
       "|   \\-- d\n",
       "\\-- a\n",
       "   \\-- b\n",
       "```\n",
       "\n",
       "---\n",
       "\n",
       "```\n",
       "print_tree(T::Type, maxdepth=5; kwargs...)\n",
       "```\n",
       "\n",
       "prints the subtree of the type `T`.\n",
       "\n",
       "## Example\n",
       "\n",
       "```julia\n",
       "julia> print_tree(AbstractRange)\n",
       "AbstractRange\n",
       "├─ LinRange\n",
       "├─ OrdinalRange\n",
       "│  ├─ AbstractUnitRange\n",
       "│  │  ├─ IdentityUnitRange\n",
       "│  │  ├─ OneTo\n",
       "│  │  ├─ Slice\n",
       "│  │  └─ UnitRange\n",
       "│  └─ StepRange\n",
       "└─ StepRangeLen\n",
       "```\n"
      ],
      "text/plain": [
       "\u001b[36m  print_tree(tree, maxdepth=5; kwargs...)\u001b[39m\n",
       "\u001b[36m  print_tree(io, tree, maxdepth=5; kwargs...)\u001b[39m\n",
       "\u001b[36m  print_tree(f::Function, io, tree, maxdepth=5; kwargs...)\u001b[39m\n",
       "\n",
       "\u001b[1m  Usage\u001b[22m\n",
       "\u001b[1m  ≡≡≡≡≡≡≡\u001b[22m\n",
       "\n",
       "  Prints an ASCII formatted representation of the \u001b[36mtree\u001b[39m to the given \u001b[36mio\u001b[39m\n",
       "  object. By default all children will be printed up to a maximum level of 5,\n",
       "  though this value can be overriden by the \u001b[36mmaxdepth\u001b[39m parameter. Nodes that are\n",
       "  truncated are indicated by a vertical ellipsis below the truncated node,\n",
       "  this indication can be turned off by providing \u001b[36mindicate_truncation=false\u001b[39m as\n",
       "  a kwarg. The charset to use in printing can be customized using the \u001b[36mcharset\u001b[39m\n",
       "  keyword argument. You can control the printing of individual nodes by\n",
       "  passing a function \u001b[36mf(io, node)\u001b[39m; the default is \u001b[36mAbstractTrees.printnode\u001b[39m.\n",
       "\n",
       "\u001b[1m  Examples\u001b[22m\n",
       "\u001b[1m  ≡≡≡≡≡≡≡≡≡≡\u001b[22m\n",
       "\n",
       "\u001b[36m  julia> print_tree(stdout, Dict(\"a\"=>\"b\",\"b\"=>['c','d']))\u001b[39m\n",
       "\u001b[36m  Dict{String,Any}(\"b\"=>['c','d'],\"a\"=>\"b\")\u001b[39m\n",
       "\u001b[36m  ├─ b\u001b[39m\n",
       "\u001b[36m  │  ├─ c\u001b[39m\n",
       "\u001b[36m  │  └─ d\u001b[39m\n",
       "\u001b[36m  └─ a\u001b[39m\n",
       "\u001b[36m     └─ b\u001b[39m\n",
       "\u001b[36m  \u001b[39m\n",
       "\u001b[36m  julia> print_tree(stdout, '0'=>'1'=>'2'=>'3', 2)\u001b[39m\n",
       "\u001b[36m  '0'\u001b[39m\n",
       "\u001b[36m  └─ '1'\u001b[39m\n",
       "\u001b[36m      └─ '2'\u001b[39m\n",
       "\u001b[36m          ⋮\u001b[39m\n",
       "\u001b[36m  \u001b[39m\n",
       "\u001b[36m  julia> print_tree(stdout, Dict(\"a\"=>\"b\",\"b\"=>['c','d']);\u001b[39m\n",
       "\u001b[36m          charset = TreeCharSet('+','\\','|',\"--\",\"⋮\"))\u001b[39m\n",
       "\u001b[36m  Dict{String,Any}(\"b\"=>['c','d'],\"a\"=>\"b\")\u001b[39m\n",
       "\u001b[36m  +-- b\u001b[39m\n",
       "\u001b[36m  |   +-- c\u001b[39m\n",
       "\u001b[36m  |   \\-- d\u001b[39m\n",
       "\u001b[36m  \\-- a\u001b[39m\n",
       "\u001b[36m     \\-- b\u001b[39m\n",
       "\n",
       "  ────────────────────────────────────────────────────────────────────────────\n",
       "\n",
       "\u001b[36m  print_tree(T::Type, maxdepth=5; kwargs...)\u001b[39m\n",
       "\n",
       "  prints the subtree of the type \u001b[36mT\u001b[39m.\n",
       "\n",
       "\u001b[1m  Example\u001b[22m\n",
       "\u001b[1m  =========\u001b[22m\n",
       "\n",
       "\u001b[36m  julia> print_tree(AbstractRange)\u001b[39m\n",
       "\u001b[36m  AbstractRange\u001b[39m\n",
       "\u001b[36m  ├─ LinRange\u001b[39m\n",
       "\u001b[36m  ├─ OrdinalRange\u001b[39m\n",
       "\u001b[36m  │  ├─ AbstractUnitRange\u001b[39m\n",
       "\u001b[36m  │  │  ├─ IdentityUnitRange\u001b[39m\n",
       "\u001b[36m  │  │  ├─ OneTo\u001b[39m\n",
       "\u001b[36m  │  │  ├─ Slice\u001b[39m\n",
       "\u001b[36m  │  │  └─ UnitRange\u001b[39m\n",
       "\u001b[36m  │  └─ StepRange\u001b[39m\n",
       "\u001b[36m  └─ StepRangeLen\u001b[39m"
      ]
     },
     "execution_count": 13,
     "metadata": {},
     "output_type": "execute_result"
    }
   ],
   "source": [
    "?print_tree"
   ]
  },
  {
   "cell_type": "code",
   "execution_count": null,
   "metadata": {},
   "outputs": [],
   "source": []
  }
 ],
 "metadata": {
  "@webio": {
   "lastCommId": null,
   "lastKernelId": null
  },
  "jupytext": {
   "formats": "ipynb,md"
  },
  "kernelspec": {
   "display_name": "Julia 1.6.0-DEV depwarn -O3",
   "language": "julia",
   "name": "julia-1.6-o3-depwarn"
  },
  "language_info": {
   "file_extension": ".jl",
   "mimetype": "application/julia",
   "name": "julia",
   "version": "1.6.0"
  },
  "toc": {
   "base_numbering": 1,
   "nav_menu": {},
   "number_sections": true,
   "sideBar": true,
   "skip_h1_title": false,
   "title_cell": "Table of Contents",
   "title_sidebar": "Contents",
   "toc_cell": false,
   "toc_position": {},
   "toc_section_display": true,
   "toc_window_display": false
  }
 },
 "nbformat": 4,
 "nbformat_minor": 4
}
